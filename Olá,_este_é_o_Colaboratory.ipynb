{
  "cells": [
    {
      "cell_type": "markdown",
      "metadata": {
        "id": "view-in-github",
        "colab_type": "text"
      },
      "source": [
        "<a href=\"https://colab.research.google.com/github/ArthurFalcao2022/Art/blob/master/Ol%C3%A1%2C_este_%C3%A9_o_Colaboratory.ipynb\" target=\"_parent\"><img src=\"https://colab.research.google.com/assets/colab-badge.svg\" alt=\"Open In Colab\"/></a>"
      ]
    },
    {
      "cell_type": "code",
      "source": [
        "import random\n",
        "\n",
        "def adivinhacao():\n",
        "    numero_secreto = random.randint(1, 100)\n",
        "    tentativas = 0\n",
        "\n",
        "    print(\"Bem-vindo ao Jogo de Adivinhação!\")\n",
        "    print(\"Estou pensando em um número entre 1 e 100.\")\n",
        "\n",
        "    while True:\n",
        "        tentativa = int(input(\"Faça sua tentativa: \"))\n",
        "        tentativas += 1\n",
        "\n",
        "        if tentativa < numero_secreto:\n",
        "            print(\"Tente um número maior!\")\n",
        "        elif tentativa > numero_secreto:\n",
        "            print(\"Tente um número menor!\")\n",
        "        else:\n",
        "            print(f\"Parabéns! Você acertou em {tentativas} tentativas.\")\n",
        "            break\n",
        "\n",
        "    print(\"Obrigado por jogar!\")\n",
        "\n",
        "adivinhacao()\n",
        "\n"
      ],
      "metadata": {
        "colab": {
          "base_uri": "https://localhost:8080/"
        },
        "id": "o0bdZi-1cmkd",
        "outputId": "b0853ca4-337f-4e7f-d373-0babe1637548"
      },
      "execution_count": 1,
      "outputs": [
        {
          "output_type": "stream",
          "name": "stdout",
          "text": [
            "Bem-vindo ao Jogo de Adivinhação!\n",
            "Estou pensando em um número entre 1 e 100.\n",
            "Faça sua tentativa: 20\n",
            "Tente um número maior!\n",
            "Faça sua tentativa: 50\n",
            "Tente um número menor!\n",
            "Faça sua tentativa: 30\n",
            "Tente um número maior!\n",
            "Faça sua tentativa: 35\n",
            "Tente um número maior!\n",
            "Faça sua tentativa: 37\n",
            "Tente um número maior!\n",
            "Faça sua tentativa: 38\n",
            "Tente um número maior!\n",
            "Faça sua tentativa: 39\n",
            "Tente um número maior!\n",
            "Faça sua tentativa: 40\n",
            "Tente um número maior!\n",
            "Faça sua tentativa: 45\n",
            "Tente um número maior!\n",
            "Faça sua tentativa: 49\n",
            "Parabéns! Você acertou em 10 tentativas.\n",
            "Obrigado por jogar!\n"
          ]
        }
      ]
    },
    {
      "cell_type": "markdown",
      "source": [],
      "metadata": {
        "id": "zya35-mOclZt"
      }
    }
  ],
  "metadata": {
    "colab": {
      "name": "Olá, este é o Colaboratory",
      "toc_visible": true,
      "provenance": [],
      "include_colab_link": true
    },
    "kernelspec": {
      "display_name": "Python 3",
      "name": "python3"
    }
  },
  "nbformat": 4,
  "nbformat_minor": 0
}