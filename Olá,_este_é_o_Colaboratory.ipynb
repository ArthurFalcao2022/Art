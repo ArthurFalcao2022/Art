{
  "cells": [
    {
      "cell_type": "markdown",
      "metadata": {
        "id": "view-in-github",
        "colab_type": "text"
      },
      "source": [
        "<a href=\"https://colab.research.google.com/github/ArthurFalcao2022/Art/blob/master/Ol%C3%A1%2C_este_%C3%A9_o_Colaboratory.ipynb\" target=\"_parent\"><img src=\"https://colab.research.google.com/assets/colab-badge.svg\" alt=\"Open In Colab\"/></a>"
      ]
    },
    {
      "cell_type": "code",
      "source": [
        "mensagem = print('Olá ETE PORTO DIGITAL!')"
      ],
      "metadata": {
        "id": "N08MaSfaYNVy",
        "outputId": "fabc9548-64ff-4e03-9cdd-2ce40261906f",
        "colab": {
          "base_uri": "https://localhost:8080/"
        }
      },
      "execution_count": 4,
      "outputs": [
        {
          "output_type": "stream",
          "name": "stdout",
          "text": [
            "Olá ETE PORTO DIGITAL!\n"
          ]
        }
      ]
    },
    {
      "cell_type": "code",
      "source": [
        "mensagem = input ('digite um numero: ')\n",
        "print('O número informado foi: ' + mensagem)"
      ],
      "metadata": {
        "id": "CiOEVxyJZpbM",
        "outputId": "1363d671-7f75-416c-e7da-ff6fecbd2032",
        "colab": {
          "base_uri": "https://localhost:8080/"
        }
      },
      "execution_count": 6,
      "outputs": [
        {
          "output_type": "stream",
          "name": "stdout",
          "text": [
            "digite um numero: 5\n",
            "O número informado foi: 5\n"
          ]
        }
      ]
    },
    {
      "cell_type": "code",
      "source": [
        "mensagem1 = input('digite o primeiro numero ')\n",
        "mensagem2 = input('digite o segundo numero ')\n",
        "soma = int(mensagem1) + int(mensagem2)\n",
        "print(\"A soma de\", mensagem1, \"e\", mensagem2, \"é igual a\", soma)"
      ],
      "metadata": {
        "id": "uvrELrUlbWGe",
        "outputId": "15cdfd83-423f-4ae3-d98b-be918fb5135a",
        "colab": {
          "base_uri": "https://localhost:8080/"
        }
      },
      "execution_count": 13,
      "outputs": [
        {
          "output_type": "stream",
          "name": "stdout",
          "text": [
            "digite o primeiro numero 5\n",
            "digite o segundo numero 5\n",
            "A soma de 5 e 5 é igual a 10\n"
          ]
        }
      ]
    },
    {
      "cell_type": "code",
      "source": [
        "nota1 = int(input(\"Digite a primeira nota: \"))\n",
        "nota2 = int(input(\"Digite a segunda nota: \"))\n",
        "nota3 = int(input(\"Digite a terceira nota: \"))\n",
        "nota4 = int(input(\"Digite a quarta nota: \"))\n",
        "\n",
        "media = (nota1 + nota2 + nota3 + nota4) / 4\n",
        "\n",
        "print(\"A média final é:\", media)"
      ],
      "metadata": {
        "id": "Vp8_rwLtdePv",
        "outputId": "0e957dc3-b2ae-4f4e-e714-bbe9490db188",
        "colab": {
          "base_uri": "https://localhost:8080/"
        }
      },
      "execution_count": 14,
      "outputs": [
        {
          "output_type": "stream",
          "name": "stdout",
          "text": [
            "Digite a primeira nota: 5\n",
            "Digite a segunda nota: 7\n",
            "Digite a terceira nota: 6\n",
            "Digite a quarta nota: 4\n",
            "A média final é: 5.5\n"
          ]
        }
      ]
    },
    {
      "cell_type": "code",
      "source": [
        "metros = int(input(\"Digite o valor em metros: \"))\n",
        "\n",
        "centimetros = metros * 100\n",
        "\n",
        "print(metros, \"metros correspondem a\", centimetros, \"centímetros.\")"
      ],
      "metadata": {
        "id": "9boMvPIodrgW",
        "outputId": "b2b5150a-531d-43cf-975d-ccb630b83da8",
        "colab": {
          "base_uri": "https://localhost:8080/"
        }
      },
      "execution_count": 15,
      "outputs": [
        {
          "output_type": "stream",
          "name": "stdout",
          "text": [
            "Digite o valor em metros: 20\n",
            "20 metros correspondem a 2000 centímetros.\n"
          ]
        }
      ]
    },
    {
      "cell_type": "code",
      "source": [
        "raio = int(input(\"Digite o raio do círculo: \"))\n",
        "\n",
        "area = 3.14 * (raio ** 2)\n",
        "\n",
        "print(\"A área do círculo é:\", area)"
      ],
      "metadata": {
        "id": "asojdgL7d0gr",
        "outputId": "081b03fd-bf30-4f12-836f-6c491a355691",
        "colab": {
          "base_uri": "https://localhost:8080/"
        }
      },
      "execution_count": 18,
      "outputs": [
        {
          "output_type": "stream",
          "name": "stdout",
          "text": [
            "Digite o raio do círculo: 20\n",
            "A área do círculo é: 1256.0\n"
          ]
        }
      ]
    },
    {
      "cell_type": "code",
      "source": [
        "lado = int(input(\"Digite o valor do lado do quadrado: \"))\n",
        "\n",
        "area = lado ** 2\n",
        "\n",
        "dobro_area = area * 2\n",
        "\n",
        "print(\"A área do quadrado é:\", area)\n",
        "print(\"O dobro da área do quadrado é:\", dobro_area)"
      ],
      "metadata": {
        "id": "tiCewN3_eB5i",
        "outputId": "cbbc6bd3-0a9f-4d1b-eebf-e3a2da389bf3",
        "colab": {
          "base_uri": "https://localhost:8080/"
        }
      },
      "execution_count": 19,
      "outputs": [
        {
          "output_type": "stream",
          "name": "stdout",
          "text": [
            "Digite o valor do lado do quadrado: 2\n",
            "A área do quadrado é: 4\n",
            "O dobro da área do quadrado é: 8\n"
          ]
        }
      ]
    },
    {
      "cell_type": "code",
      "source": [
        "valor_hora = int(input(\"Digite o valor que você ganha por hora: \"))\n",
        "horas_mes = int(input(\"Digite o número de horas trabalhadas no mês: \"))\n",
        "\n",
        "salario = valor_hora * horas_mes\n",
        "\n",
        "print(\"Seu salário no mês é:\", salario)"
      ],
      "metadata": {
        "id": "20d1szhDeLCv",
        "outputId": "b8879db0-1413-4858-d9c7-0974b03e4318",
        "colab": {
          "base_uri": "https://localhost:8080/"
        }
      },
      "execution_count": 20,
      "outputs": [
        {
          "output_type": "stream",
          "name": "stdout",
          "text": [
            "Digite o valor que você ganha por hora: 1300\n",
            "Digite o número de horas trabalhadas no mês: 300\n",
            "Seu salário no mês é: 390000\n"
          ]
        }
      ]
    },
    {
      "cell_type": "code",
      "source": [
        "valor = int(input(\"Digite um valor: \"))\n",
        "\n",
        "if valor > 0:\n",
        "    print(\"O valor digitado é positivo.\")\n",
        "elif valor < 0:\n",
        "    print(\"O valor digitado é negativo.\")\n",
        "else:\n",
        "    print(\"O valor digitado é zero.\")"
      ],
      "metadata": {
        "id": "CVqyC_MReY8u",
        "outputId": "530d6d6c-053c-4ca6-cbef-b3f8a67cd61f",
        "colab": {
          "base_uri": "https://localhost:8080/"
        }
      },
      "execution_count": 23,
      "outputs": [
        {
          "output_type": "stream",
          "name": "stdout",
          "text": [
            "Digite um valor: 50\n",
            "O valor digitado é positivo.\n"
          ]
        }
      ]
    },
    {
      "cell_type": "code",
      "source": [
        "letra = input(\"Digite uma letra: \")\n",
        "\n",
        "if letra == \"F\" or letra == \"f\":\n",
        "    print(\"F - Feminino\")\n",
        "elif letra == \"M\" or letra == \"m\":\n",
        "    print(\"M - Masculino\")\n",
        "else:\n",
        "    print(\"Sexo Inválido\")"
      ],
      "metadata": {
        "id": "n_ZeS7CYej-k",
        "outputId": "c122a644-f8ae-469d-e024-0346bda36eb0",
        "colab": {
          "base_uri": "https://localhost:8080/"
        }
      },
      "execution_count": 25,
      "outputs": [
        {
          "output_type": "stream",
          "name": "stdout",
          "text": [
            "Digite uma letra: M\n",
            "M - Masculino\n"
          ]
        }
      ]
    }
  ],
  "metadata": {
    "colab": {
      "name": "Olá, este é o Colaboratory",
      "toc_visible": true,
      "provenance": [],
      "include_colab_link": true
    },
    "kernelspec": {
      "display_name": "Python 3",
      "name": "python3"
    }
  },
  "nbformat": 4,
  "nbformat_minor": 0
}