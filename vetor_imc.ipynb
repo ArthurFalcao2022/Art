{
  "nbformat": 4,
  "nbformat_minor": 0,
  "metadata": {
    "colab": {
      "provenance": [],
      "authorship_tag": "ABX9TyObSV19j0O8XarMBX0FV2t2",
      "include_colab_link": true
    },
    "kernelspec": {
      "name": "python3",
      "display_name": "Python 3"
    },
    "language_info": {
      "name": "python"
    }
  },
  "cells": [
    {
      "cell_type": "markdown",
      "metadata": {
        "id": "view-in-github",
        "colab_type": "text"
      },
      "source": [
        "<a href=\"https://colab.research.google.com/github/ArthurFalcao2022/Art/blob/master/vetor_imc.ipynb\" target=\"_parent\"><img src=\"https://colab.research.google.com/assets/colab-badge.svg\" alt=\"Open In Colab\"/></a>"
      ]
    },
    {
      "cell_type": "code",
      "execution_count": 1,
      "metadata": {
        "colab": {
          "base_uri": "https://localhost:8080/"
        },
        "id": "QHOlgTqNPbXf",
        "outputId": "f51e74c8-be64-46b0-bd2a-5e102fe84a64"
      },
      "outputs": [
        {
          "output_type": "stream",
          "name": "stdout",
          "text": [
            "[181, 100, 40]\n"
          ]
        }
      ],
      "source": [
        "#aula vetores\n",
        "imc = [181, 100, 40]\n",
        "print(imc)\n"
      ]
    },
    {
      "cell_type": "code",
      "source": [
        "#vetor nota\n",
        "notas = [10, 9, 8]\n",
        "print(notas)"
      ],
      "metadata": {
        "colab": {
          "base_uri": "https://localhost:8080/"
        },
        "id": "Y9vzaxudQC_e",
        "outputId": "8c06bf31-e100-41df-ed7d-f7fafc1d4811"
      },
      "execution_count": 2,
      "outputs": [
        {
          "output_type": "stream",
          "name": "stdout",
          "text": [
            "[10, 9, 8]\n"
          ]
        }
      ]
    },
    {
      "cell_type": "code",
      "source": [
        "semestre1 = [10 , 9 , 7 ,  4 ]\n",
        "semestre2 = [5 , 3 , 2 , 9]\n",
        "media = sum(semestre1 + semestre2)\n",
        "print(media)"
      ],
      "metadata": {
        "colab": {
          "base_uri": "https://localhost:8080/"
        },
        "id": "fjiMFzdARHoQ",
        "outputId": "6e949525-c40e-42c0-90be-d5c944eeb055"
      },
      "execution_count": 13,
      "outputs": [
        {
          "output_type": "stream",
          "name": "stdout",
          "text": [
            "49\n"
          ]
        }
      ]
    }
  ]
}